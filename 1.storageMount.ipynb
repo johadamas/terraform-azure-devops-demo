{
 "cells": [
  {
   "cell_type": "markdown",
   "metadata": {
    "application/vnd.databricks.v1+cell": {
     "cellMetadata": {},
     "inputWidgets": {},
     "nuid": "e5ef6fd4-7ee8-4496-8ee3-c56e80dea4e5",
     "showTitle": false,
     "tableResultSettingsMap": {},
     "title": ""
    }
   },
   "source": [
    "### 1. Get Storage Credentials"
   ]
  },
  {
   "cell_type": "code",
   "execution_count": 0,
   "metadata": {
    "application/vnd.databricks.v1+cell": {
     "cellMetadata": {
      "byteLimit": 2048000,
      "rowLimit": 10000
     },
     "inputWidgets": {},
     "nuid": "13c1ade2-7f2d-4aca-9858-02aa0c48e482",
     "showTitle": false,
     "tableResultSettingsMap": {},
     "title": ""
    }
   },
   "outputs": [],
   "source": [
    "# Retrieve the storage account name and key from the Azure Databricks secrets\n",
    "storage_account_name = dbutils.secrets.get(scope='adbSecretScope', key='storageAccountName')\n",
    "storage_account_key = dbutils.secrets.get(scope='adbSecretScope', key='storageAccountKey')"
   ]
  },
  {
   "cell_type": "markdown",
   "metadata": {
    "application/vnd.databricks.v1+cell": {
     "cellMetadata": {},
     "inputWidgets": {},
     "nuid": "5bc21d7b-71b7-41ca-bc06-9e6598e595d6",
     "showTitle": false,
     "tableResultSettingsMap": {},
     "title": ""
    }
   },
   "source": [
    "### 2. Container Mounting"
   ]
  },
  {
   "cell_type": "markdown",
   "metadata": {
    "application/vnd.databricks.v1+cell": {
     "cellMetadata": {},
     "inputWidgets": {},
     "nuid": "7097d644-e300-42fe-8447-f1e8fa5dea0b",
     "showTitle": false,
     "tableResultSettingsMap": {},
     "title": ""
    }
   },
   "source": [
    "#### A. Function to mount containers"
   ]
  },
  {
   "cell_type": "code",
   "execution_count": 0,
   "metadata": {
    "application/vnd.databricks.v1+cell": {
     "cellMetadata": {
      "byteLimit": 2048000,
      "rowLimit": 10000
     },
     "inputWidgets": {},
     "nuid": "d2c202fe-6b44-47b3-8209-3a5063498de3",
     "showTitle": false,
     "tableResultSettingsMap": {},
     "title": ""
    }
   },
   "outputs": [],
   "source": [
    "# Function to Mount Containers\n",
    "def mount_container(container_name, mount_point, storage_account_name, storage_account_key):\n",
    "    # Check if the storage is already mounted\n",
    "    if any(mount.mountPoint == mount_point for mount in dbutils.fs.mounts()):\n",
    "        print(f\"Storage already mounted at {mount_point}\")\n",
    "    else:\n",
    "        # Mount the container\n",
    "        dbutils.fs.mount(\n",
    "            source=f'wasbs://{container_name}@{storage_account_name}.blob.core.windows.net',\n",
    "            mount_point=mount_point,\n",
    "            extra_configs={f'fs.azure.account.key.{storage_account_name}.blob.core.windows.net': storage_account_key}\n",
    "        )\n",
    "        print(f\"Storage mounted at {mount_point}\")\n"
   ]
  },
  {
   "cell_type": "markdown",
   "metadata": {
    "application/vnd.databricks.v1+cell": {
     "cellMetadata": {},
     "inputWidgets": {},
     "nuid": "6f742bc1-638e-470c-9e9b-b8f18e4392cc",
     "showTitle": false,
     "tableResultSettingsMap": {},
     "title": ""
    }
   },
   "source": [
    "#### B. Define mounting points"
   ]
  },
  {
   "cell_type": "code",
   "execution_count": 0,
   "metadata": {
    "application/vnd.databricks.v1+cell": {
     "cellMetadata": {
      "byteLimit": 2048000,
      "rowLimit": 10000
     },
     "inputWidgets": {},
     "nuid": "467dd4d7-3161-4503-ac60-288997d75296",
     "showTitle": false,
     "tableResultSettingsMap": {},
     "title": ""
    }
   },
   "outputs": [],
   "source": [
    "# Mount points and container names\n",
    "containers = [\n",
    "    {\"container_name\": \"landing\", \"mount_point\": \"/mnt/raw_coffee_shop/\"},\n",
    "    {\"container_name\": \"checkpoints\", \"mount_point\": \"/mnt/stream_checkpoints/\"},\n",
    "    {\"container_name\": \"medallion\", \"mount_point\": \"/mnt/medallion/\"}\n",
    "]"
   ]
  },
  {
   "cell_type": "markdown",
   "metadata": {
    "application/vnd.databricks.v1+cell": {
     "cellMetadata": {},
     "inputWidgets": {},
     "nuid": "70698401-d5d9-4201-a9b5-db443377623a",
     "showTitle": false,
     "tableResultSettingsMap": {},
     "title": ""
    }
   },
   "source": [
    "#### C. Call and loop through the function"
   ]
  },
  {
   "cell_type": "code",
   "execution_count": 0,
   "metadata": {
    "application/vnd.databricks.v1+cell": {
     "cellMetadata": {
      "byteLimit": 2048000,
      "rowLimit": 10000
     },
     "inputWidgets": {},
     "nuid": "37bcc24a-4b8a-429e-8bc5-8286edbdabf6",
     "showTitle": false,
     "tableResultSettingsMap": {},
     "title": ""
    }
   },
   "outputs": [
    {
     "output_type": "stream",
     "name": "stdout",
     "output_type": "stream",
     "text": [
      "Storage already mounted at /mnt/raw_coffee_shop/\nStorage already mounted at /mnt/stream_checkpoints/\nStorage already mounted at /mnt/medallion/\n"
     ]
    }
   ],
   "source": [
    "# Loop through containers and mount each one\n",
    "for container in containers:\n",
    "    mount_container(container[\"container_name\"], container[\"mount_point\"], storage_account_name, storage_account_key)"
   ]
  }
 ],
 "metadata": {
  "application/vnd.databricks.v1+notebook": {
   "computePreferences": null,
   "dashboards": [],
   "environmentMetadata": {
    "base_environment": "",
    "client": "1"
   },
   "language": "python",
   "notebookMetadata": {
    "pythonIndentUnit": 4
   },
   "notebookName": "1.storageMount",
   "widgets": {}
  },
  "language_info": {
   "name": "python"
  }
 },
 "nbformat": 4,
 "nbformat_minor": 0
}